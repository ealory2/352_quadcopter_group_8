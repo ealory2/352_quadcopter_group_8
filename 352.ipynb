{
 "cells": [
  {
   "cell_type": "code",
   "execution_count": null,
   "metadata": {},
   "outputs": [
    {
     "data": {
      "text/plain": [
       "imports\n"
      ]
     },
     "metadata": {},
     "output_type": "display_data"
    }
   ],
   "source": [
    "from sympy import *\n",
    "import numpy as np\n",
    "from scipy import linalg\n",
    "import matplotlib.pyplot as plt\n",
    "init_printing()\n",
    "print(\"imports\")"
   ]
  },
  {
   "cell_type": "code",
   "execution_count": null,
   "metadata": {},
   "outputs": [
    {
     "data": {
      "text/plain": [
       "constants\n"
      ]
     },
     "metadata": {},
     "output_type": "display_data"
    }
   ],
   "source": [
    "#Constants\n",
    "grav = 9.81\n",
    "mass = 1.552    # The mass of the quadrotor in kg\n",
    "lxy = 0.25    # The x or y distance from the quadrotor frame to the mocap markers in meters\n",
    "lz = 0.04 # The z distance from the quadrotor frame to the mocap markers in meters\n",
    "print(\"constants\")"
   ]
  },
  {
   "cell_type": "code",
   "execution_count": null,
   "metadata": {},
   "outputs": [
    {
     "data": {
      "text/plain": [
       "symbols\n"
      ]
     },
     "metadata": {},
     "output_type": "display_data"
    }
   ],
   "source": [
    "# Define symbols\n",
    "px_inW, py_inW, pz_inW = symbols('p_x, p_y, p_z')\n",
    "vx_inB, vy_inB, vz_inB = symbols('v_x, v_y, v_z')\n",
    "phi, theta, psi = symbols('phi, theta, psi')\n",
    "wx_inB, wy_inB, wz_inB = symbols('omega_x, omega_y, omega_z')\n",
    "taux_inB, tauy_inB, tauz_inB, fz_inB = symbols('tau_x, tau_y, tau_z, f_z')\n",
    "print(\"symbols\")"
   ]
  },
  {
   "cell_type": "code",
   "execution_count": null,
   "metadata": {},
   "outputs": [
    {
     "data": {
      "text/plain": [
       "⎡           cos(ψ)⋅cos(θ)                          sin(ψ)⋅cos(θ)               ↪\n",
       "⎢                                                                              ↪\n",
       "⎢sin(φ)⋅sin(θ)⋅cos(ψ) - sin(ψ)⋅cos(φ)  sin(φ)⋅sin(ψ)⋅sin(θ) + cos(φ)⋅cos(ψ)    ↪\n",
       "⎢                                                                              ↪\n",
       "⎣sin(φ)⋅sin(ψ) + sin(θ)⋅cos(φ)⋅cos(ψ)  -sin(φ)⋅cos(ψ) + sin(ψ)⋅sin(θ)⋅cos(φ)   ↪\n",
       "\n",
       "↪    -sin(θ)   ⎤\n",
       "↪              ⎥\n",
       "↪ sin(φ)⋅cos(θ)⎥\n",
       "↪              ⎥\n",
       "↪ cos(φ)⋅cos(θ)⎦\n"
      ]
     },
     "metadata": {},
     "output_type": "display_data"
    }
   ],
   "source": [
    "p_inW = Matrix([[px_inW],[py_inW], [pz_inW]])\n",
    "v_inB = Matrix([[vx_inB],[vy_inB],[vz_inB]])\n",
    "w_inB = Matrix([[wx_inB],[wy_inB], [wz_inB]])\n",
    "Rx = Matrix([[1,0,0],[0, cos(phi), -sin(phi)],[0, sin(phi),  cos(phi)]])\n",
    "Ry = Matrix([[ cos(theta), 0, sin(theta)],[0, 1,0], [-sin(theta), 0, cos(theta)]])\n",
    "Rz = Matrix([[cos(psi), -sin(psi), 0],[sin(psi),  cos(psi), 0],[0,0,1]])\n",
    "R_ofB_inW = Rz @ Ry @ Rx\n",
    "R_ofW_inB = R_ofB_inW.T\n",
    "pprint(R_ofW_inB)"
   ]
  },
  {
   "cell_type": "code",
   "execution_count": null,
   "metadata": {},
   "outputs": [
    {
     "data": {
      "text/plain": [
       "⎡      15.22512⋅sin(θ)       ⎤\n",
       "⎢                            ⎥\n",
       "⎢  -15.22512⋅sin(φ)⋅cos(θ)   ⎥\n",
       "⎢                            ⎥\n",
       "⎣f_z - 15.22512⋅cos(φ)⋅cos(θ)⎦\n"
      ]
     },
     "metadata": {},
     "output_type": "display_data"
    }
   ],
   "source": [
    "tau_inB = Matrix([[taux_inB],\n",
    "                      [tauy_inB],\n",
    "                      [tauz_inB]])\n",
    "tau_inB = simplify(tau_inB)\n",
    "grav_inW = Matrix([[0.],\n",
    "                       [0.],\n",
    "                       [-mass * grav]])\n",
    "grav_inB = R_ofW_inB @ grav_inW\n",
    "f_inB = grav_inB + Matrix([[0.],\n",
    "                               [0.],\n",
    "                               [fz_inB]])\n",
    "f_inB = simplify(f_inB)\n",
    "pprint(f_inB)"
   ]
  },
  {
   "cell_type": "code",
   "execution_count": null,
   "metadata": {},
   "outputs": [
    {
     "data": {
      "text/plain": [
       "⎡5.17333333333333e-5          0.0                  0.0         ⎤\n",
       "⎢                                                              ⎥\n",
       "⎢        0.0          5.17333333333333e-5          0.0         ⎥\n",
       "⎢                                                              ⎥\n",
       "⎣        0.0                  0.0          0.000103466666666667⎦\n"
      ]
     },
     "metadata": {},
     "output_type": "display_data"
    }
   ],
   "source": [
    "Ixx = (1/12)*(mass/4)*lz**2\n",
    "Iyy = Ixx\n",
    "Izz = (1/12)*(mass/4)*lz**2*2\n",
    "I_inB = Matrix([[Ixx, 0.,  0.],\n",
    "                    [0.,  Iyy, 0.],\n",
    "                    [0.,  0.,  Izz]])\n",
    "pprint(I_inB)"
   ]
  },
  {
   "cell_type": "code",
   "execution_count": null,
   "metadata": {},
   "outputs": [
    {
     "data": {
      "text/plain": [
       "⎡vₓ⋅cos(ψ)⋅cos(θ) + v_y⋅(sin(φ)⋅sin(θ)⋅cos(ψ) - sin(ψ)⋅cos(φ)) + v_z⋅(sin(φ)⋅s ↪\n",
       "⎢                                                                              ↪\n",
       "⎢vₓ⋅sin(ψ)⋅cos(θ) + v_y⋅(sin(φ)⋅sin(ψ)⋅sin(θ) + cos(φ)⋅cos(ψ)) - v_z⋅(sin(φ)⋅c ↪\n",
       "⎢                                                                              ↪\n",
       "⎣                            -vₓ⋅sin(θ) + v_y⋅sin(φ)⋅cos(θ) + v_z⋅cos(φ)⋅cos(θ ↪\n",
       "\n",
       "↪ in(ψ) + sin(θ)⋅cos(φ)⋅cos(ψ))⎤\n",
       "↪                              ⎥\n",
       "↪ os(ψ) - sin(ψ)⋅sin(θ)⋅cos(φ))⎥\n",
       "↪                              ⎥\n",
       "↪ )                            ⎦\n"
      ]
     },
     "metadata": {},
     "output_type": "display_data"
    }
   ],
   "source": [
    "v_inW = R_ofB_inW @ v_inB\n",
    "xyz_dot = simplify(v_inW)\n",
    "pprint(xyz_dot)"
   ]
  },
  {
   "cell_type": "code",
   "execution_count": null,
   "metadata": {},
   "outputs": [
    {
     "data": {
      "text/plain": [
       "⎡              -1.0⋅ω_y⋅v_z + 1.0⋅ω_z⋅v_y + 9.81⋅sin(θ)              ⎤\n",
       "⎢                                                                    ⎥\n",
       "⎢            1.0⋅ωₓ⋅v_z - 1.0⋅ω_z⋅vₓ - 9.81⋅sin(φ)⋅cos(θ)            ⎥\n",
       "⎢                                                                    ⎥\n",
       "⎣0.644329896907216⋅f_z - 1.0⋅ωₓ⋅v_y + 1.0⋅ω_y⋅vₓ - 9.81⋅cos(φ)⋅cos(θ)⎦\n"
      ]
     },
     "metadata": {},
     "output_type": "display_data"
    }
   ],
   "source": [
    "v_inB_dot = (1 / mass) * (f_inB - w_inB.cross(mass * v_inB))\n",
    "v_inB_dot = simplify(v_inB_dot)\n",
    "pprint(v_inB_dot)"
   ]
  },
  {
   "cell_type": "code",
   "execution_count": null,
   "metadata": {},
   "outputs": [
    {
     "data": {
      "text/plain": [
       "⎡ωₓ + ω_y⋅sin(φ)⋅tan(θ) + ω_z⋅cos(φ)⋅tan(θ)⎤\n",
       "⎢                                          ⎥\n",
       "⎢         ω_y⋅cos(φ) - ω_z⋅sin(φ)          ⎥\n",
       "⎢                                          ⎥\n",
       "⎢         ω_y⋅sin(φ) + ω_z⋅cos(φ)          ⎥\n",
       "⎢         ───────────────────────          ⎥\n",
       "⎣                 cos(θ)                   ⎦\n"
      ]
     },
     "metadata": {},
     "output_type": "display_data"
    }
   ],
   "source": [
    "ex = Matrix([[1], [0], [0]])\n",
    "ey = Matrix([[0], [1], [0]])\n",
    "ez = Matrix([[0], [0], [1]])\n",
    "M = Matrix.hstack(ex, Rx.T@ey, (Ry@Rx).T@ez)\n",
    "M_inv = simplify(M.inv())\n",
    "rpy_dot = simplify(M_inv@w_inB)\n",
    "pprint(rpy_dot)"
   ]
  },
  {
   "cell_type": "code",
   "execution_count": null,
   "metadata": {},
   "outputs": [
    {
     "data": {
      "text/plain": [
       "⎡-1.0⋅ω_y⋅ω_z + 19329.8969072165⋅τₓ⎤\n",
       "⎢                                  ⎥\n",
       "⎢1.0⋅ωₓ⋅ω_z + 19329.8969072165⋅τ_y ⎥\n",
       "⎢                                  ⎥\n",
       "⎣       9664.94845360825⋅τ_z       ⎦\n"
      ]
     },
     "metadata": {},
     "output_type": "display_data"
    }
   ],
   "source": [
    "w_inB_dot = I_inB.inv() @ (tau_inB - w_inB.cross(I_inB@w_inB))\n",
    "w_inB_dot = simplify(w_inB_dot)\n",
    "pprint(w_inB_dot)"
   ]
  },
  {
   "cell_type": "code",
   "execution_count": null,
   "metadata": {},
   "outputs": [
    {
     "data": {
      "text/plain": [
       "⎡vₓ⋅cos(ψ)⋅cos(θ) + v_y⋅(sin(φ)⋅sin(θ)⋅cos(ψ) - sin(ψ)⋅cos(φ)) + v_z⋅(sin(φ)⋅s ↪\n",
       "⎢                                                                              ↪\n",
       "⎢vₓ⋅sin(ψ)⋅cos(θ) + v_y⋅(sin(φ)⋅sin(ψ)⋅sin(θ) + cos(φ)⋅cos(ψ)) - v_z⋅(sin(φ)⋅c ↪\n",
       "⎢                                                                              ↪\n",
       "⎢                            -vₓ⋅sin(θ) + v_y⋅sin(φ)⋅cos(θ) + v_z⋅cos(φ)⋅cos(θ ↪\n",
       "⎢                                                                              ↪\n",
       "⎢                                 -1.0⋅ω_y⋅v_z + 1.0⋅ω_z⋅v_y + 9.81⋅sin(θ)     ↪\n",
       "⎢                                                                              ↪\n",
       "⎢                               1.0⋅ωₓ⋅v_z - 1.0⋅ω_z⋅vₓ - 9.81⋅sin(φ)⋅cos(θ)   ↪\n",
       "⎢                                                                              ↪\n",
       "⎢                   0.644329896907216⋅f_z - 1.0⋅ωₓ⋅v_y + 1.0⋅ω_y⋅vₓ - 9.81⋅cos ↪\n",
       "⎢                                                                              ↪\n",
       "⎢                                ωₓ + ω_y⋅sin(φ)⋅tan(θ) + ω_z⋅cos(φ)⋅tan(θ)    ↪\n",
       "⎢                                                                              ↪\n",
       "⎢                                         ω_y⋅cos(φ) - ω_z⋅sin(φ)              ↪\n",
       "⎢                                                                              ↪\n",
       "⎢                                         ω_y⋅sin(φ) + ω_z⋅cos(φ)              ↪\n",
       "⎢                                         ───────────────────────              ↪\n",
       "⎢                                                 cos(θ)                       ↪\n",
       "⎢                                                                              ↪\n",
       "⎢                                    -1.0⋅ω_y⋅ω_z + 19329.8969072165⋅τₓ        ↪\n",
       "⎢                                                                              ↪\n",
       "⎢                                    1.0⋅ωₓ⋅ω_z + 19329.8969072165⋅τ_y         ↪\n",
       "⎢                                                                              ↪\n",
       "⎣                                           9664.94845360825⋅τ_z               ↪\n",
       "\n",
       "↪ in(ψ) + sin(θ)⋅cos(φ)⋅cos(ψ))⎤\n",
       "↪                              ⎥\n",
       "↪ os(ψ) - sin(ψ)⋅sin(θ)⋅cos(φ))⎥\n",
       "↪                              ⎥\n",
       "↪ )                            ⎥\n",
       "↪                              ⎥\n",
       "↪                              ⎥\n",
       "↪                              ⎥\n",
       "↪                              ⎥\n",
       "↪                              ⎥\n",
       "↪ (φ)⋅cos(θ)                   ⎥\n",
       "↪                              ⎥\n",
       "↪                              ⎥\n",
       "↪                              ⎥\n",
       "↪                              ⎥\n",
       "↪                              ⎥\n",
       "↪                              ⎥\n",
       "↪                              ⎥\n",
       "↪                              ⎥\n",
       "↪                              ⎥\n",
       "↪                              ⎥\n",
       "↪                              ⎥\n",
       "↪                              ⎥\n",
       "↪                              ⎥\n",
       "↪                              ⎦\n"
      ]
     },
     "metadata": {},
     "output_type": "display_data"
    }
   ],
   "source": [
    "f = Matrix.vstack(xyz_dot,\n",
    "                      v_inB_dot,\n",
    "                      rpy_dot,\n",
    "                      w_inB_dot)\n",
    "pprint(f)"
   ]
  },
  {
   "cell_type": "code",
   "execution_count": null,
   "metadata": {},
   "outputs": [
    {
     "data": {
      "text/plain": [
       "Traceback (most recent call last):\n",
       "  File \"c:\\Users\\emlo2\\.vscode\\extensions\\ms-python.python-2024.20.0-win32-x64\\python_files\\python_server.py\", line 130, in exec_user_input\n",
       "    retval = callable_(user_input, user_globals)\n",
       "             ^^^^^^^^^^^^^^^^^^^^^^^^^^^^^^^^^^^\n",
       "  File \"<string>\", line 18, in <module>\n",
       "  File \"C:\\Users\\emlo2\\AppData\\Local\\Programs\\Python\\Python312\\Lib\\site-packages\\scipy\\integrate\\_ivp\\ivp.py\", line 621, in solve_ivp\n",
       "    solver = method(fun, t0, y0, tf, vectorized=vectorized, **options)\n",
       "             ^^^^^^^^^^^^^^^^^^^^^^^^^^^^^^^^^^^^^^^^^^^^^^^^^^^^^^^^^\n",
       "  File \"C:\\Users\\emlo2\\AppData\\Local\\Programs\\Python\\Python312\\Lib\\site-packages\\scipy\\integrate\\_ivp\\rk.py\", line 94, in __init__\n",
       "    self.f = self.fun(self.t, self.y)\n",
       "             ^^^^^^^^^^^^^^^^^^^^^^^^\n",
       "  File \"C:\\Users\\emlo2\\AppData\\Local\\Programs\\Python\\Python312\\Lib\\site-packages\\scipy\\integrate\\_ivp\\base.py\", line 154, in fun\n",
       "    return self.fun_single(t, y)\n",
       "           ^^^^^^^^^^^^^^^^^^^^^\n",
       "  File \"C:\\Users\\emlo2\\AppData\\Local\\Programs\\Python\\Python312\\Lib\\site-packages\\scipy\\integrate\\_ivp\\base.py\", line 23, in fun_wrapped\n",
       "    return np.asarray(fun(t, y), dtype=dtype)\n",
       "                      ^^^^^^^^^\n",
       "TypeError: 'list' object is not callable\n",
       "\n"
      ]
     },
     "metadata": {},
     "output_type": "display_data"
    }
   ],
   "source": [
    "from scipy.integrate import solve_ivp\n",
    "time = (0,120)\n",
    "eval = np.linspace(time[0],time[1],1000)\n",
    "phidot = w\n",
    "initial = [0,0,1,\n",
    "           0,0,0,\n",
    "           0,0,0,\n",
    "           0,0,0]\n",
    "eom = [xyz_dot[0],xyz_dot[1],xyz_dot[2],]\n",
    "sol = solve_ivp(eom, time, initial, t_eval = eval, method = 'RK45')\n",
    "x,y,z,phi,theta,psi = sol.y[:6]"
   ]
  },
  {
   "cell_type": "code",
   "execution_count": null,
   "metadata": {},
   "outputs": [
    {
     "data": {
      "text/plain": [
       "Traceback (most recent call last):\n",
       "  File \"c:\\Users\\emlo2\\.vscode\\extensions\\ms-python.python-2024.20.0-win32-x64\\python_files\\python_server.py\", line 130, in exec_user_input\n",
       "    retval = callable_(user_input, user_globals)\n",
       "             ^^^^^^^^^^^^^^^^^^^^^^^^^^^^^^^^^^^\n",
       "  File \"<string>\", line 22, in <module>\n",
       "  File \"C:\\Users\\emlo2\\AppData\\Local\\Programs\\Python\\Python312\\Lib\\site-packages\\matplotlib\\pyplot.py\", line 3794, in plot\n",
       "    return gca().plot(\n",
       "           ^^^^^^^^^^^\n",
       "  File \"C:\\Users\\emlo2\\AppData\\Local\\Programs\\Python\\Python312\\Lib\\site-packages\\matplotlib\\axes\\_axes.py\", line 1779, in plot\n",
       "    lines = [*self._get_lines(self, *args, data=data, **kwargs)]\n",
       "            ^^^^^^^^^^^^^^^^^^^^^^^^^^^^^^^^^^^^^^^^^^^^^^^^^^^^\n",
       "  File \"C:\\Users\\emlo2\\AppData\\Local\\Programs\\Python\\Python312\\Lib\\site-packages\\matplotlib\\axes\\_base.py\", line 296, in __call__\n",
       "    yield from self._plot_args(\n",
       "               ^^^^^^^^^^^^^^^^\n",
       "  File \"C:\\Users\\emlo2\\AppData\\Local\\Programs\\Python\\Python312\\Lib\\site-packages\\matplotlib\\axes\\_base.py\", line 486, in _plot_args\n",
       "    raise ValueError(f\"x and y must have same first dimension, but \"\n",
       "ValueError: x and y must have same first dimension, but have shapes (100,) and (3, 1)\n",
       "\n"
      ]
     },
     "metadata": {},
     "output_type": "display_data"
    }
   ],
   "source": [
    "\n",
    "t = np.linspace(0, 10, 100)  # Time from 0 to 10 seconds\n",
    "m = 1\n",
    "\n",
    "x =   # x-component (linear motion)\n",
    "y = np.sin(t)  # y-component (sinusoidal motion)\n",
    "z = np.cos(t)  # z-component (cosine motion)\n",
    "\n",
    "fig = plt.figure()\n",
    "ax = fig.add_subplot(111, projection='3d')\n",
    "\n",
    "ax.plot(x, y, z, label='Trajectory (Position)')\n",
    "ax.set_title('Trajectory vs Time')\n",
    "ax.set_xlabel('X Position')\n",
    "ax.set_ylabel('Y Position')\n",
    "ax.set_zlabel('Z Position')\n",
    "ax.legend()\n",
    "ax.grid()\n",
    "\n",
    "# # Plot Velocity\n",
    "# plt.figure()\n",
    "# plt.plot(t, v_inB_dot, label='Velocity', color='orange')\n",
    "# plt.title('Velocity vs Time')\n",
    "# plt.xlabel('Time (s)')\n",
    "# plt.ylabel('Velocity')\n",
    "# plt.legend()\n",
    "# plt.grid()\n",
    "\n",
    "# # Plot Acceleration\n",
    "# plt.figure()\n",
    "# plt.plot(t, w_inB_dot, label='Acceleration', color='red')\n",
    "# plt.title('Acceleration vs Time')\n",
    "# plt.xlabel('Time (s)')\n",
    "# plt.ylabel('Acceleration')\n",
    "# plt.legend()\n",
    "# plt.grid()\n",
    "\n",
    "plt.show()\n"
   ]
  },
  {
   "cell_type": "code",
   "execution_count": null,
   "metadata": {},
   "outputs": [],
   "source": []
  }
 ],
 "metadata": {
  "language_info": {
   "name": "python"
  }
 },
 "nbformat": 4,
 "nbformat_minor": 2
}
